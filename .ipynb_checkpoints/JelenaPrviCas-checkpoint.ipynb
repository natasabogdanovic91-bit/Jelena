{
 "cells": [
  {
   "cell_type": "code",
   "execution_count": 3,
   "id": "b5cfeb73-4c30-4b7e-90e3-dcb8e9b6eb1e",
   "metadata": {},
   "outputs": [
    {
     "name": "stdout",
     "output_type": "stream",
     "text": [
      "Zdravo 3\n",
      "1\n"
     ]
    }
   ],
   "source": [
    "print(\"Zdravo\",\"3\")\n",
    "print(\"1\")"
   ]
  },
  {
   "cell_type": "code",
   "execution_count": 5,
   "id": "b142a15b-4ed2-4081-a9b5-271cc0b2af1e",
   "metadata": {},
   "outputs": [
    {
     "name": "stdout",
     "output_type": "stream",
     "text": [
      "0\n",
      "1\n",
      "2\n",
      "3\n",
      "4\n"
     ]
    }
   ],
   "source": [
    "for i in range(5):\n",
    "    print(i)"
   ]
  },
  {
   "cell_type": "code",
   "execution_count": 4,
   "id": "aef956ad-15f1-476c-b4d7-5804e0a22547",
   "metadata": {},
   "outputs": [
    {
     "name": "stdin",
     "output_type": "stream",
     "text": [
      "kako se zoves?  pera\n"
     ]
    },
    {
     "name": "stdout",
     "output_type": "stream",
     "text": [
      "Zdravo, pera\n"
     ]
    }
   ],
   "source": [
    "ime = input(\"kako se zoves? \")\n",
    "print(\"Zdravo, \" + ime)"
   ]
  },
  {
   "cell_type": "code",
   "execution_count": 8,
   "id": "b895849b-aab0-4e35-80e1-c555a00cf478",
   "metadata": {},
   "outputs": [
    {
     "name": "stdout",
     "output_type": "stream",
     "text": [
      "ANA\n",
      "Godine: 25\n",
      "ime : ANA\n",
      "godine : 26\n",
      "grad : Beograd\n",
      "zanimanje : programer\n",
      "dict_keys(['ime', 'godine', 'grad', 'zanimanje'])\n",
      "dict_values(['ANA', 26, 'Beograd', 'programer'])\n"
     ]
    }
   ],
   "source": [
    "osoba = {\n",
    "    \"ime\": \"ANA\",\n",
    "    \"godine\": 25,\n",
    "    \"grad\": \"Beograd\"\n",
    "}\n",
    "print(osoba[\"ime\"])\n",
    "print(\"Godine:\", osoba[\"godine\"])\n",
    "osoba[\"zanimanje\"] = \"programer\"\n",
    "osoba[\"godine\"] = 26\n",
    "for a in osoba:\n",
    "    print(a, \":\", osoba[a])\n",
    "\n",
    "print(osoba.keys())\n",
    "print(osoba.values())"
   ]
  },
  {
   "cell_type": "code",
   "execution_count": null,
   "id": "e18580ba-c48f-49f5-931a-f51d11af49d8",
   "metadata": {},
   "outputs": [],
   "source": []
  },
  {
   "cell_type": "code",
   "execution_count": 14,
   "id": "40f5742e-7dff-4a98-8981-226562a2ae12",
   "metadata": {},
   "outputs": [
    {
     "name": "stdout",
     "output_type": "stream",
     "text": [
      "C:\\Users\\Dejan\\Desktop\\Jelena\n"
     ]
    }
   ],
   "source": [
    "import os\n",
    "print(os.getcwd())\n",
    "os.chdir(\"C:/Users/Dejan/Desktop/Jelena\")"
   ]
  },
  {
   "cell_type": "code",
   "execution_count": null,
   "id": "af994d1a-fb86-4e32-91cc-cb6d55fc8981",
   "metadata": {},
   "outputs": [],
   "source": []
  }
 ],
 "metadata": {
  "kernelspec": {
   "display_name": "Python [conda env:base] *",
   "language": "python",
   "name": "conda-base-py"
  },
  "language_info": {
   "codemirror_mode": {
    "name": "ipython",
    "version": 3
   },
   "file_extension": ".py",
   "mimetype": "text/x-python",
   "name": "python",
   "nbconvert_exporter": "python",
   "pygments_lexer": "ipython3",
   "version": "3.12.7"
  }
 },
 "nbformat": 4,
 "nbformat_minor": 5
}
