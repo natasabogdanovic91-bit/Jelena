{
 "cells": [
  {
   "cell_type": "markdown",
   "id": "fa104aec-fa60-4ae6-a7c3-410211af296b",
   "metadata": {},
   "source": [
    "Pretraga nesortiranih podataka - linearno pretrazivanje\n",
    "\n",
    "lista = [2,56,31,4,78,123,5,24,6,1,78,90]\n",
    "\n",
    "treba pretraziti listu da vidimo da li sadrzi npr broj 24:\n",
    "\n",
    "1. prolazak kroz listu element po element\n",
    "2. provera za svaki element da li odgovara trazenom\n",
    "3. ili cemo naci element ili cemo doci do kraja liste, u tom slucaju nismo pronasli element"
   ]
  },
  {
   "cell_type": "code",
   "execution_count": 1,
   "id": "1b81e091-3fbe-42f5-9bcf-7c7742150134",
   "metadata": {},
   "outputs": [
    {
     "name": "stdout",
     "output_type": "stream",
     "text": [
      "Element 24 postoji na mestu 7.\n",
      "Element 23 ne postoji.\n"
     ]
    }
   ],
   "source": [
    "lista = [2,56,31,4,78,123,5,24,6,1,78,90]\n",
    "\n",
    "def linear_search(data, target): #data moze biti lista, niz, neka druga kolekcija, ..\n",
    "    for i in range(len(data)): #1 prolaz kroz n elemenata kolekcije, O(n)\n",
    "        if data[i] == target: #2\n",
    "            return f\"Element {target} postoji na mestu {i}.\" #3\n",
    "    return f\"Element {target} ne postoji.\"\n",
    "\n",
    "print(linear_search(lista, 24))\n",
    "print(linear_search(lista, 23))"
   ]
  },
  {
   "cell_type": "code",
   "execution_count": 3,
   "id": "a2323de2-f60b-40a4-987b-d3d49315f8bc",
   "metadata": {},
   "outputs": [
    {
     "name": "stdout",
     "output_type": "stream",
     "text": [
      "[1, 2, 4, 5, 6, 24, 31, 56, 78, 78, 90, 123]\n",
      "Element 24 postoji na mestu 5.\n",
      "Element 23 ne postoji.\n"
     ]
    }
   ],
   "source": [
    "lista = [2,56,31,4,78,123,5,24,6,1,78,90]\n",
    "\n",
    "def linear_search(data, target): #data moze biti lista, niz, neka druga kolekcija, ..\n",
    "    for i in range(len(data)): #1 prolaz kroz n elemenata kolekcije, O(n)\n",
    "        if data[i] == target: #2\n",
    "            return f\"Element {target} postoji na mestu {i}.\" #3\n",
    "    return f\"Element {target} ne postoji.\"\n",
    "\n",
    "sortirana_lista = sorted(lista)\n",
    "print(sortirana_lista)\n",
    "\n",
    "print(linear_search(sortirana_lista, 24))\n",
    "print(linear_search(sortirana_lista, 23))"
   ]
  },
  {
   "cell_type": "markdown",
   "id": "35a25932-3db8-470e-b0b5-8ebdbcdf68e9",
   "metadata": {},
   "source": [
    "Binarno pretrazivanje\n",
    "- kolekcija mora biti sortirana\n",
    "- koristi princip \"podeli pa valdaj\"\n",
    "- slozenost O(logn)\n",
    "\n",
    "sortirana_lista = [1, 2, 4, 5, 6, 24, 31, 56, 78, 78, 90, 123]\n",
    "\n",
    "1. pronaci sredinu liste\n",
    "2. ako je srednji element jednak trazenom, pronasli smo i izlazimo\n",
    "3. ako nije jednak, uporedimo trazeni i srednji i ako je trazeni manji od srednjeg, nastavimo pretragu u levoj polovini liste, a ako je veci od srednjeg, u desnoj polovini liste\n",
    "4. ponavljati dok se element ne pronadje ili dok deo liste koji nam preostaje ne postane prazan\n",
    "\n",
    "[1, 2, 4, 5, 6, 24, 31, 56, 78, 78, 90, 123], trazeni element je 4\n",
    "\n",
    "prva iteracija:\n",
    "srednji = (12-1)/2 = sortirana_lista[5] = 24\n",
    "trazeni = 4\n",
    "trazeni < srednji -> nastavljamo pretragu u levoj polovini [1, 2, 4, 5, 6]\n",
    "\n",
    "druga iteracija: \n",
    "srednji = sortirana_lista_levo[2] = 4\n",
    "trazeni = 4"
   ]
  },
  {
   "cell_type": "code",
   "execution_count": 4,
   "id": "6b7f8bae-4f7c-4185-b3af-ecc0d0406f95",
   "metadata": {},
   "outputs": [
    {
     "name": "stdout",
     "output_type": "stream",
     "text": [
      "[1, 2, 4, 5, 6, 24, 31, 56, 78, 78, 90, 123]\n",
      "Element 4 postoji na mestu 2.\n",
      "Element 95 ne postoji.\n"
     ]
    }
   ],
   "source": [
    "lista = [2,56,31,4,78,123,5,24,6,1,78,90]\n",
    "\n",
    "sortirana_lista = sorted(lista)\n",
    "print(sortirana_lista)\n",
    "\n",
    "def binary_search(data, target):\n",
    "    levi = 0\n",
    "    desni = len(data) - 1\n",
    "\n",
    "    while (levi <= desni):\n",
    "        sredina = (levi + desni) // 2\n",
    "        sredina_vrednost = data[sredina]\n",
    "\n",
    "        if sredina_vrednost == target:\n",
    "            return f\"Element {target} postoji na mestu {sredina}.\"\n",
    "        elif sredina_vrednost > target:\n",
    "            desni = sredina - 1\n",
    "        else:\n",
    "            levi = sredina + 1\n",
    "    return f\"Element {target} ne postoji.\"\n",
    "\n",
    "print(binary_search(sortirana_lista, 4))\n",
    "print(binary_search(sortirana_lista, 95))"
   ]
  },
  {
   "cell_type": "markdown",
   "id": "ea8d3379-5025-428a-b173-f1fcfeb85294",
   "metadata": {},
   "source": [
    "range(4) -> (0, 3)\n",
    "rande(len(lista)) -> (0, len(lista)-1)"
   ]
  },
  {
   "cell_type": "code",
   "execution_count": 9,
   "id": "3ac7efd5-9c0b-4bf1-ac0a-7adcb6c83a33",
   "metadata": {},
   "outputs": [
    {
     "name": "stdout",
     "output_type": "stream",
     "text": [
      "True\n",
      "Nije pronadjen element\n"
     ]
    }
   ],
   "source": [
    "# python funkcija za pretragu, O(n)\n",
    "\n",
    "lista = [2,56,31,4,78,123,5,24,6,1,78,90]\n",
    "\n",
    "print(24 in lista) #operator in - vraca true ili false\n",
    "try:\n",
    "    print(lista.index(20)) #funkcija index vraca index elementa ako je pronadjen\n",
    "except ValueError:\n",
    "    print(\"Nije pronadjen element\")"
   ]
  },
  {
   "cell_type": "code",
   "execution_count": 18,
   "id": "9f41cdc7-2344-4c25-b6da-a401840312c8",
   "metadata": {},
   "outputs": [
    {
     "name": "stdout",
     "output_type": "stream",
     "text": [
      "13\n",
      "150 is absent\n"
     ]
    }
   ],
   "source": [
    "from bisect import bisect_left\n",
    "\n",
    "def BinarySearch(a, x):\n",
    "    i = bisect_left(a, x) #pokusava da ubaci element x na poziciju u a, tako da ne poremeti sortirani poredak\n",
    "    print(i)\n",
    "    if i != len(a) and a[i] == x:\n",
    "        return i\n",
    "    else:\n",
    "        return -1\n",
    "\n",
    "a  = [1, 2, 4, 5, 6, 24, 31, 31, 56, 78, 78, 90, 123]\n",
    "x = 150\n",
    "res = BinarySearch(a, x)\n",
    "if res == -1:\n",
    "    print(x, \"is absent\")\n",
    "else:\n",
    "    print(\"First occurrence of\", x, \"is present at\", res)"
   ]
  },
  {
   "cell_type": "markdown",
   "id": "4f337b41-42bb-426c-9d9d-3eec64377490",
   "metadata": {},
   "source": [
    "from bisect import bisect_right\n",
    "\n",
    "def BinarySearch(a, x):\n",
    "    i = bisect_right(a, x)\n",
    "    if i != 0 and a[i-1] == x:\n",
    "        return (i-1)\n",
    "    else:\n",
    "        return -1"
   ]
  },
  {
   "cell_type": "code",
   "execution_count": null,
   "id": "7b0d9aaa-f3b8-4618-bb9c-d86117e06446",
   "metadata": {},
   "outputs": [],
   "source": [
    "lista = list(range(6))\n",
    "recnik = {x: x for x in range(6)}\n",
    "\n",
    "print(lista)\n",
    "print(recnik)"
   ]
  },
  {
   "cell_type": "code",
   "execution_count": null,
   "id": "b358e568-040a-44da-ae24-85946084c915",
   "metadata": {},
   "outputs": [],
   "source": [
    "recnik = {\n",
    "    \"ime\": \"Pera\",\n",
    "    \"prezime\": \"Peric\",\n",
    "    \"godine\": 50\n",
    "}\n",
    "\n",
    "\"Pera\" in recnik[\"ime\"] #pretraga po vrednosti\n",
    "\"ime\" in recnik #pretraga po kljucu"
   ]
  },
  {
   "cell_type": "code",
   "execution_count": null,
   "id": "c19884f1-d144-4f06-b9e2-c5cbaf9a9275",
   "metadata": {},
   "outputs": [],
   "source": [
    "#pretrazivanje liste i recnika poredjenje\n",
    "import time\n",
    "\n",
    "lista = list(range(1000000))\n",
    "recnik = {x: x for x in range(1000000)}\n",
    "target=999999\n",
    "\n",
    "start_time = time.time()\n",
    "target in lista\n",
    "end_time = time.time()\n",
    "print(f\"Vreme pretrage liste: {end_time - start_time:.6f}\")\n",
    "\n",
    "start_time = time.time()\n",
    "target in recnik\n",
    "end_time = time.time()\n",
    "print(f\"Vreme pretrage recnika: {end_time - start_time:.6f}\")"
   ]
  },
  {
   "cell_type": "code",
   "execution_count": null,
   "id": "bbd9e6d8-475d-4d2a-b582-7bb5f9a15f4c",
   "metadata": {},
   "outputs": [],
   "source": [
    "def binary_search(data, target):\n",
    "    levi = 0\n",
    "    desni = len(data) - 1\n",
    "\n",
    "    while (levi <= desni):\n",
    "        sredina = (levi + desni) // 2\n",
    "        sredina_vrednost = data[sredina]\n",
    "\n",
    "        if sredina_vrednost == target:\n",
    "            return f\"Element {target} postoji na mestu {sredina}.\"\n",
    "        elif sredina_vrednost > target:\n",
    "            desni = sredina - 1\n",
    "        else:\n",
    "            levi = sredina + 1\n",
    "    return f\"Element {target} ne postoji.\"\n",
    "\n",
    "lista = list(range(1000000))\n",
    "target = 999999\n",
    "\n",
    "start_time = time.time()\n",
    "target in lista\n",
    "end_time = time.time()\n",
    "print(f\"Vreme pretrage liste: {end_time - start_time:.6f}\")\n",
    "\n",
    "start_time = time.time()\n",
    "binary_search(lista, target)\n",
    "end_time = time.time()\n",
    "print(f\"Vreme pretrage liste binary: {end_time - start_time:.6f}\")"
   ]
  },
  {
   "cell_type": "code",
   "execution_count": null,
   "id": "34fa495f-ff5c-4ed8-a5cf-4cb2318e956f",
   "metadata": {},
   "outputs": [],
   "source": [
    "import pandas as pd\n",
    "\n",
    "recnik = {\n",
    "    \"ime\": [\"Pera\", \"Mika\", \"Zika\", \"Djura\"],\n",
    "    \"godine\": [34,25,35,29],\n",
    "    \"grad\": [\"Beograd\", \"Novi Sad\", \"Nis\", \"Beograd\"]\n",
    "}\n",
    "\n",
    "df = pd.DataFrame(recnik, index=['Covek1', 'Covek2', 'Covek3', 'Covek4'])\n",
    "stariji_od_30_godina = df[df[\"godine\"] > 30]\n",
    "uslov = (df[\"ime\"] == \"Pera\") & (df[\"godine\"] < 30)\n",
    "rezultat = df[uslov]\n",
    "\n",
    "print(recnik[\"ime\"])\n",
    "print(df.loc['Covek3'])\n",
    "print(stariji_od_30_godina)\n",
    "print(rezultat)"
   ]
  },
  {
   "cell_type": "code",
   "execution_count": null,
   "id": "6a256fa6-3368-47e9-b19c-4883adf2bdc3",
   "metadata": {},
   "outputs": [],
   "source": [
    "def binary_search(data, target):\n",
    "    levi = 0\n",
    "    desni = len(data) - 1\n",
    "\n",
    "    while (levi <= desni):\n",
    "        sredina = (levi + desni) // 2\n",
    "        sredina_vrednost = data[sredina]\n",
    "\n",
    "        if sredina_vrednost == target:\n",
    "            return f\"Element {target} postoji na mestu {sredina}.\"\n",
    "        elif sredina_vrednost > target:\n",
    "            desni = sredina - 1\n",
    "        else:\n",
    "            levi = sredina + 1\n",
    "    return f\"Element {target} ne postoji.\"\n",
    "\n",
    "txt = \"When the mysterious deep space research vessel USCSS Maginot crash-lands on Earth, Wendy (Sydney Chandler) and a ragtag group of tactical soldiers make a fateful discovery that puts them face-to-face with the planet's greatest threat.\"\n",
    "lista = txt.split()\n",
    "print(lista)\n",
    "sortirana_lista = sorted(lista)\n",
    "print(\"...\")\n",
    "print(sortirana_lista)\n",
    "print(binary_search(sortirana_lista, \"puts\"))"
   ]
  }
 ],
 "metadata": {
  "kernelspec": {
   "display_name": "Python [conda env:base] *",
   "language": "python",
   "name": "conda-base-py"
  },
  "language_info": {
   "codemirror_mode": {
    "name": "ipython",
    "version": 3
   },
   "file_extension": ".py",
   "mimetype": "text/x-python",
   "name": "python",
   "nbconvert_exporter": "python",
   "pygments_lexer": "ipython3",
   "version": "3.12.7"
  }
 },
 "nbformat": 4,
 "nbformat_minor": 5
}
