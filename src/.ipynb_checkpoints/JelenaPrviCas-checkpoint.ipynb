{
 "cells": [
  {
   "cell_type": "code",
   "execution_count": 6,
   "id": "f9556a64-62e5-4a67-835d-0515f057815f",
   "metadata": {},
   "outputs": [
    {
     "name": "stdout",
     "output_type": "stream",
     "text": [
      "trenutni direktorijum C:\\Users\\Dejan\\Desktop\\Jelena\\src\n"
     ]
    }
   ],
   "source": [
    "import os\n",
    "print(\"trenutni direktorijum\", os.getcwd())\n",
    "\n",
    "os.chdir(\"C:/Users/Dejan/Desktop/Jelena/src\")"
   ]
  },
  {
   "cell_type": "code",
   "execution_count": 9,
   "id": "75bde41d-7339-40f2-b0e8-d6e113f5f59c",
   "metadata": {},
   "outputs": [
    {
     "name": "stdout",
     "output_type": "stream",
     "text": [
      "putanja C:\\Users\\Dejan\\Desktop\\Jelena\\src\n"
     ]
    }
   ],
   "source": [
    "from pathlib import Path\n",
    "\n",
    "putanja = Path().resolve()\n",
    "print(\"putanja\", putanja)"
   ]
  },
  {
   "cell_type": "code",
   "execution_count": 17,
   "id": "11491062-58d5-4b6e-9fa0-37b567544c0b",
   "metadata": {},
   "outputs": [
    {
     "name": "stdout",
     "output_type": "stream",
     "text": [
      "Natasa Bogdanovic\n",
      "12\n"
     ]
    }
   ],
   "source": [
    "ime = \"Natasa\"\n",
    "prezime = \"Bogdanovic\"\n",
    "\n",
    "print (ime + \" \" + prezime)\n",
    "\n",
    "broj1 = 5\n",
    "broj2 = 7\n",
    "print (broj1 + broj2)\n"
   ]
  },
  {
   "cell_type": "code",
   "execution_count": 18,
   "id": "6bc25106-14e4-4a51-a9c0-50783d879c40",
   "metadata": {},
   "outputs": [
    {
     "name": "stdin",
     "output_type": "stream",
     "text": [
      "unesi broj 4\n"
     ]
    },
    {
     "data": {
      "text/plain": [
       "'4'"
      ]
     },
     "execution_count": 18,
     "metadata": {},
     "output_type": "execute_result"
    }
   ],
   "source": [
    "broj = input (\"unesi broj\")\n",
    "print (broj)"
   ]
  },
  {
   "cell_type": "code",
   "execution_count": 26,
   "id": "73575763-4827-4394-8495-edb6db062c8d",
   "metadata": {},
   "outputs": [
    {
     "name": "stdout",
     "output_type": "stream",
     "text": [
      "[1, 2, 3, 4, 5, 6]\n",
      "4\n",
      "[1, 2, 3, 4, 5, 6, 7]\n",
      "[1, 2, 4, 5, 6, 7]\n",
      "6\n",
      "['pera', 'mika']\n"
     ]
    }
   ],
   "source": [
    "brojevi = [1,2,3,4,5,6]\n",
    "print(brojevi)\n",
    "print(brojevi[3])\n",
    "\n",
    "brojevi.append(7)\n",
    "print(brojevi)\n",
    "\n",
    "brojevi.remove(3)\n",
    "print(brojevi)\n",
    "duzina = len(brojevi)\n",
    "print(duzina)\n",
    "\n",
    "imena = [\"pera\", \"mika\"]\n",
    "print(imena)"
   ]
  },
  {
   "cell_type": "code",
   "execution_count": 40,
   "id": "94611ad5-aed4-4da3-b14b-a6abe46b5b16",
   "metadata": {},
   "outputs": [
    {
     "name": "stdout",
     "output_type": "stream",
     "text": [
      "[5]\n",
      "[1, 6]\n",
      "[2]\n",
      "[3]\n",
      "[4]\n"
     ]
    }
   ],
   "source": [
    "brojevi = [1,2,3,4,5,6]\n",
    "ost0 = []\n",
    "ost1 = []\n",
    "ost2 = []\n",
    "ost3 = []\n",
    "ost4 = []\n",
    "for broj in brojevi:\n",
    "    if broj % 5 == 0: ost0.append(broj)\n",
    "    elif broj % 5 == 1: ost1.append(broj)\n",
    "    elif broj % 5 == 2: ost2.append(broj)\n",
    "    elif broj % 5 == 3: ost3.append(broj)\n",
    "    else: ost4.append(broj)\n",
    "\n",
    "\n",
    "print(ost0)\n",
    "print(ost1)\n",
    "print(ost2)\n",
    "print(ost3)\n",
    "print(ost4)"
   ]
  },
  {
   "cell_type": "code",
   "execution_count": 43,
   "id": "2b8ce6ac-d40b-418b-b04f-660cf40ac499",
   "metadata": {},
   "outputs": [
    {
     "name": "stdout",
     "output_type": "stream",
     "text": [
      "15\n"
     ]
    }
   ],
   "source": [
    "zbir = 0;\n",
    "for i in range(6):\n",
    "    zbir = zbir + i\n",
    "\n",
    "print (zbir)"
   ]
  },
  {
   "cell_type": "code",
   "execution_count": 45,
   "id": "401c00b1-eb12-4214-b7c3-34a81007704b",
   "metadata": {},
   "outputs": [
    {
     "name": "stdout",
     "output_type": "stream",
     "text": [
      "5\n"
     ]
    }
   ],
   "source": [
    "broj = 0\n",
    "while broj < 5:\n",
    "    broj = broj + 1\n",
    "\n",
    "\n",
    "print (broj)"
   ]
  },
  {
   "cell_type": "code",
   "execution_count": 48,
   "id": "a3195ef1-6d21-4372-98e9-077878fd1a7c",
   "metadata": {},
   "outputs": [
    {
     "name": "stdin",
     "output_type": "stream",
     "text": [
      "unesite broj 1 sdgs\n",
      "unesite broj 1 4\n",
      "unesite broj 1 i\n",
      "unesite broj 1 [\n",
      "unesite broj 1 f\n",
      "unesite broj 1 1\n"
     ]
    }
   ],
   "source": [
    "unos = \"\"\n",
    "#komentari\n",
    "while unos != \"1\":\n",
    "    unos = input(\"unesite broj 1\") #komentar"
   ]
  },
  {
   "cell_type": "code",
   "execution_count": 51,
   "id": "d4816b30-1979-44bd-81cf-2289e1b18436",
   "metadata": {},
   "outputs": [
    {
     "name": "stdout",
     "output_type": "stream",
     "text": [
      "Milica\n",
      "{'ime': 'Milica', 'prezime': 'Bogdanovic', 'grad': 'Novi Sad', 'godine': 30, 'nadimak': 'Mica'}\n"
     ]
    }
   ],
   "source": [
    "osoba = {\n",
    "    \"ime\": \"Natasa\",\n",
    "    \"prezime\": \"Bogdanovic\",\n",
    "    \"grad\": \"Novi Sad\",\n",
    "    \"godine\": 30\n",
    "}\n",
    "\n",
    "osoba[\"ime\"] = \"Milica\"\n",
    "osoba[\"nadimak\"] = \"Mica\"\n",
    "\n",
    "print(osoba[\"ime\"])\n",
    "print(osoba)"
   ]
  },
  {
   "cell_type": "code",
   "execution_count": 55,
   "id": "0b9d9e67-91ce-4ad6-8bc3-61487bb99e85",
   "metadata": {},
   "outputs": [
    {
     "name": "stdout",
     "output_type": "stream",
     "text": [
      "150\n"
     ]
    }
   ],
   "source": [
    "spisak = {\n",
    "    \"zaposleni\": 150,\n",
    "    \"studenti\": 200,\n",
    "    \"deca\": 100\n",
    "}\n",
    "\n",
    "def brojZaposlenih(objekat):\n",
    "    return (objekat[\"zaposleni\"])\n",
    "\n",
    "zaposleni = brojZaposlenih(spisak)\n",
    "print(zaposleni)"
   ]
  },
  {
   "cell_type": "code",
   "execution_count": 57,
   "id": "ee9d9b7a-0b85-4fdc-9d4c-ed6e609efd05",
   "metadata": {},
   "outputs": [
    {
     "name": "stdout",
     "output_type": "stream",
     "text": [
      "Prosek je:  44.833333333333336\n"
     ]
    }
   ],
   "source": [
    "brojevi = [18, 23, 45, 88, 65, 30]\n",
    "#izracunati prosek brojeva\n",
    "\n",
    "zbir = 0\n",
    "for broj in brojevi:\n",
    "    zbir = zbir + broj\n",
    "\n",
    "prosek = zbir / len(brojevi)\n",
    "print(\"Prosek je: \", prosek)"
   ]
  },
  {
   "cell_type": "code",
   "execution_count": 58,
   "id": "d8a69aa0-5ad7-4895-b03c-89ca15554b37",
   "metadata": {},
   "outputs": [
    {
     "name": "stdout",
     "output_type": "stream",
     "text": [
      "1\n",
      "2\n",
      "1\n",
      "1\n",
      "1\n"
     ]
    }
   ],
   "source": [
    "brojevi = [1,2,3,4,5,6]\n",
    "ost0 = 0\n",
    "ost1 = 0\n",
    "ost2 = 0\n",
    "ost3 = 0\n",
    "ost4 = 0\n",
    "for broj in brojevi:\n",
    "    if broj % 5 == 0: ost0 += 1\n",
    "    elif broj % 5 == 1: ost1 += 1\n",
    "    elif broj % 5 == 2: ost2 += 1\n",
    "    elif broj % 5 == 3: ost3 += 1\n",
    "    else: ost4 += 1\n",
    "\n",
    "\n",
    "print(ost0)\n",
    "print(ost1)\n",
    "print(ost2)\n",
    "print(ost3)\n",
    "print(ost4)"
   ]
  },
  {
   "cell_type": "code",
   "execution_count": 60,
   "id": "41330132-3616-4c5b-b079-1dee6aec6ace",
   "metadata": {},
   "outputs": [
    {
     "name": "stdout",
     "output_type": "stream",
     "text": [
      "0\n"
     ]
    }
   ],
   "source": [
    "#izracunati faktorijel broja n (n!)\n",
    "# n! = n*(n-1)*...*2*1\n",
    "\n",
    "def faktorijel(n):\n",
    "    rezultat = 1\n",
    "    for i in range(1,n+1):\n",
    "        rezultat *= i\n",
    "    return rezultat\n",
    "\n",
    "print(faktorijel(5))"
   ]
  },
  {
   "cell_type": "code",
   "execution_count": 63,
   "id": "a95fc06d-6f41-41fe-aa17-c29951e91a32",
   "metadata": {},
   "outputs": [
    {
     "name": "stdout",
     "output_type": "stream",
     "text": [
      "akim\n"
     ]
    }
   ],
   "source": [
    "#obrnuti string npr od \"sunce\" dobiti \"ecnus\"\n",
    "\n",
    "def obrni(tekst):\n",
    "    unazad = \"\"\n",
    "    for slovo in tekst:\n",
    "        unazad = slovo + unazad\n",
    "    return unazad\n",
    "\n",
    "print(obrni(\"mika\"))"
   ]
  },
  {
   "cell_type": "code",
   "execution_count": 64,
   "id": "d1f52fcd-0ae4-456f-be6d-827d0f2f172c",
   "metadata": {},
   "outputs": [
    {
     "name": "stdout",
     "output_type": "stream",
     "text": [
      "e\n"
     ]
    }
   ],
   "source": [
    "ime = \"Pera\"\n",
    "print(ime[1])"
   ]
  },
  {
   "cell_type": "code",
   "execution_count": 69,
   "id": "90b58a38-e1b9-4d8e-aec3-423735edb4a5",
   "metadata": {},
   "outputs": [
    {
     "name": "stdout",
     "output_type": "stream",
     "text": [
      "[{'ime': 'Mika', 'plata': 55000}]\n",
      "[{'ime': 'Pera', 'plata': 40000}, {'ime': 'Mika', 'plata': 55000}, {'ime': 'Zika', 'plata': 35000}]\n",
      "[{'ime': 'Pera', 'plata': 44000.0}, {'ime': 'Mika', 'plata': 60500.00000000001}, {'ime': 'Zika', 'plata': 38500.0}]\n"
     ]
    }
   ],
   "source": [
    "#iz liste zaposlenih izdvojiti samo one koji imaju platu vecu od 50000\n",
    "\n",
    "zaposleni = [\n",
    "    {\"ime\": \"Pera\", \"plata\": 40000},\n",
    "    {\"ime\": \"Mika\", \"plata\": 55000},\n",
    "    {\"ime\": \"Zika\", \"plata\": 35000}\n",
    "]\n",
    "\n",
    "def preko50(lista):\n",
    "    viseOd50 = []\n",
    "    for osoba in lista:\n",
    "        if osoba[\"plata\"] > 50000:\n",
    "            viseOd50.append(osoba)\n",
    "    return viseOd50\n",
    "\n",
    "print(preko50(zaposleni))\n",
    "\n",
    "#povecanje plate za 10%\n",
    "\n",
    "def pov10(lista):\n",
    "    for osoba in lista:\n",
    "        osoba[\"plata\"] *= 1.1\n",
    "\n",
    "print(zaposleni)\n",
    "pov10(zaposleni)\n",
    "print(zaposleni)"
   ]
  },
  {
   "cell_type": "code",
   "execution_count": 70,
   "id": "0e219ef5-df7b-4a00-be52-a2e0bdc6c5f9",
   "metadata": {},
   "outputs": [
    {
     "name": "stdout",
     "output_type": "stream",
     "text": [
      "{'Tim1': 2, 'Tim2': 1}\n"
     ]
    }
   ],
   "source": [
    "#kategorisanje\n",
    "\n",
    "zaposleni = [\n",
    "    {\"ime\": \"Pera\", \"plata\": 40000, \"tim\": \"Tim1\"},\n",
    "    {\"ime\": \"Mika\", \"plata\": 55000, \"tim\": \"Tim2\"},\n",
    "    {\"ime\": \"Zika\", \"plata\": 35000, \"tim\": \"Tim1\"}\n",
    "]\n",
    "\n",
    "prebrojavanje = {}\n",
    "\n",
    "for osoba in zaposleni:\n",
    "    tim = osoba[\"tim\"]\n",
    "    if tim in prebrojavanje:\n",
    "        prebrojavanje[tim] += 1\n",
    "    else:\n",
    "        prebrojavanje[tim] = 1\n",
    "\n",
    "print(prebrojavanje)"
   ]
  },
  {
   "cell_type": "code",
   "execution_count": null,
   "id": "73339e54-9055-48c7-a4db-a04e51874eb4",
   "metadata": {},
   "outputs": [],
   "source": []
  }
 ],
 "metadata": {
  "kernelspec": {
   "display_name": "Python [conda env:base] *",
   "language": "python",
   "name": "conda-base-py"
  },
  "language_info": {
   "codemirror_mode": {
    "name": "ipython",
    "version": 3
   },
   "file_extension": ".py",
   "mimetype": "text/x-python",
   "name": "python",
   "nbconvert_exporter": "python",
   "pygments_lexer": "ipython3",
   "version": "3.12.7"
  }
 },
 "nbformat": 4,
 "nbformat_minor": 5
}
