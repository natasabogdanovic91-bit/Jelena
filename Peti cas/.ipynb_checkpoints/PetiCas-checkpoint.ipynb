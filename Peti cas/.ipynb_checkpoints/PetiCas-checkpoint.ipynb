{
 "cells": [
  {
   "cell_type": "markdown",
   "id": "f9182754-d03e-4d1b-90e6-db49374b817a",
   "metadata": {},
   "source": [
    "ETL proces (Extract, Transform, Load)\n",
    "API (Application Programming Interface)"
   ]
  },
  {
   "cell_type": "code",
   "execution_count": 33,
   "id": "65347d5b-6e5e-4dc2-9015-d0aff450e060",
   "metadata": {},
   "outputs": [
    {
     "name": "stdout",
     "output_type": "stream",
     "text": [
      "Status Code: 200\n",
      "posle try except\n"
     ]
    }
   ],
   "source": [
    "import requests\n",
    "import json\n",
    "\n",
    "api_url = \"https://pokeapi.co/api/v2/pokemon/ditto\"\n",
    "\n",
    "try:\n",
    "    response = requests.get(api_url)\n",
    "    response.raise_for_status()\n",
    "    print(f\"Status Code: {response.status_code}\")\n",
    "    data = response.json()\n",
    "    file_path = \"pokeapi_raw.json\"\n",
    "    #json.dump() ova funkcija se koristi da se JSON upise negde\n",
    "    with open(file_path, 'w', encoding='utf-8') as f: json.dump(data, f, ensure_ascii=False, indent=4)\n",
    "except requests.exceptions.RequestException as e: print(f\"Greska: {e}\")\n",
    "\n",
    "print(\"posle try except\")"
   ]
  },
  {
   "cell_type": "code",
   "execution_count": 36,
   "id": "fa0d031f-1462-496d-9098-44341c7cb7f3",
   "metadata": {},
   "outputs": [
    {
     "data": {
      "text/html": [
       "<div>\n",
       "<style scoped>\n",
       "    .dataframe tbody tr th:only-of-type {\n",
       "        vertical-align: middle;\n",
       "    }\n",
       "\n",
       "    .dataframe tbody tr th {\n",
       "        vertical-align: top;\n",
       "    }\n",
       "\n",
       "    .dataframe thead th {\n",
       "        text-align: right;\n",
       "    }\n",
       "</style>\n",
       "<table border=\"1\" class=\"dataframe\">\n",
       "  <thead>\n",
       "    <tr style=\"text-align: right;\">\n",
       "      <th></th>\n",
       "      <th>abilities</th>\n",
       "    </tr>\n",
       "  </thead>\n",
       "  <tbody>\n",
       "    <tr>\n",
       "      <th>0</th>\n",
       "      <td>{'ability': {'name': 'limber', 'url': 'https:/...</td>\n",
       "    </tr>\n",
       "    <tr>\n",
       "      <th>1</th>\n",
       "      <td>{'ability': {'name': 'imposter', 'url': 'https...</td>\n",
       "    </tr>\n",
       "  </tbody>\n",
       "</table>\n",
       "</div>"
      ],
      "text/plain": [
       "                                           abilities\n",
       "0  {'ability': {'name': 'limber', 'url': 'https:/...\n",
       "1  {'ability': {'name': 'imposter', 'url': 'https..."
      ]
     },
     "execution_count": 36,
     "metadata": {},
     "output_type": "execute_result"
    }
   ],
   "source": [
    "import pandas as pd\n",
    "import json\n",
    "\n",
    "file_path = \"pokemon.json\"\n",
    "with open(file_path, 'r', encoding='utf-8') as f:\n",
    "    data = json.load(f)\n",
    "#json.load() se koristi da se procita JSON\n",
    "df = pd.DataFrame(data)\n",
    "df.head() "
   ]
  },
  {
   "cell_type": "code",
   "execution_count": 37,
   "id": "b3b57569-df07-48cf-9758-c1f43e314ba3",
   "metadata": {},
   "outputs": [
    {
     "name": "stdout",
     "output_type": "stream",
     "text": [
      "Status Code: 200\n",
      "posle try except\n"
     ]
    }
   ],
   "source": [
    "import requests\n",
    "import json\n",
    "\n",
    "api_url = \"https://restcountries.com/v3.1/independent?status=true\"\n",
    "\n",
    "try:\n",
    "    response = requests.get(api_url)\n",
    "    response.raise_for_status()\n",
    "    print(f\"Status Code: {response.status_code}\")\n",
    "    data = response.json()\n",
    "    file_path = \"drzave_raw.json\"\n",
    "    #json.dump() ova funkcija se koristi da se JSON upise negde\n",
    "    with open(file_path, 'w', encoding='utf-8') as f: json.dump(data, f, ensure_ascii=False, indent=4)\n",
    "except requests.exceptions.RequestException as e: print(f\"Greska: {e}\")\n",
    "\n",
    "print(\"posle try except\")"
   ]
  },
  {
   "cell_type": "code",
   "execution_count": 3,
   "id": "dfcc276e-ad97-42c2-b49c-48a010614a64",
   "metadata": {},
   "outputs": [
    {
     "name": "stdout",
     "output_type": "stream",
     "text": [
      "<class 'pandas.core.frame.DataFrame'>\n",
      "RangeIndex: 195 entries, 0 to 194\n",
      "Data columns (total 35 columns):\n",
      " #   Column        Non-Null Count  Dtype  \n",
      "---  ------        --------------  -----  \n",
      " 0   name          195 non-null    object \n",
      " 1   tld           194 non-null    object \n",
      " 2   cca2          195 non-null    object \n",
      " 3   ccn3          194 non-null    object \n",
      " 4   cioc          194 non-null    object \n",
      " 5   independent   195 non-null    bool   \n",
      " 6   status        195 non-null    object \n",
      " 7   unMember      195 non-null    bool   \n",
      " 8   currencies    195 non-null    object \n",
      " 9   idd           195 non-null    object \n",
      " 10  capital       195 non-null    object \n",
      " 11  altSpellings  195 non-null    object \n",
      " 12  region        195 non-null    object \n",
      " 13  subregion     195 non-null    object \n",
      " 14  languages     195 non-null    object \n",
      " 15  latlng        195 non-null    object \n",
      " 16  landlocked    195 non-null    bool   \n",
      " 17  borders       157 non-null    object \n",
      " 18  area          195 non-null    float64\n",
      " 19  demonyms      195 non-null    object \n",
      " 20  cca3          195 non-null    object \n",
      " 21  translations  195 non-null    object \n",
      " 22  flag          195 non-null    object \n",
      " 23  maps          195 non-null    object \n",
      " 24  population    195 non-null    int64  \n",
      " 25  gini          166 non-null    object \n",
      " 26  fifa          186 non-null    object \n",
      " 27  car           195 non-null    object \n",
      " 28  timezones     195 non-null    object \n",
      " 29  continents    195 non-null    object \n",
      " 30  flags         195 non-null    object \n",
      " 31  coatOfArms    195 non-null    object \n",
      " 32  startOfWeek   195 non-null    object \n",
      " 33  capitalInfo   195 non-null    object \n",
      " 34  postalCode    195 non-null    object \n",
      "dtypes: bool(3), float64(1), int64(1), object(30)\n",
      "memory usage: 49.5+ KB\n"
     ]
    }
   ],
   "source": [
    "import pandas as pd\n",
    "import json\n",
    "\n",
    "file_path = \"drzave_raw.json\"\n",
    "with open(file_path, 'r', encoding='utf-8') as f:\n",
    "    data = json.load(f)\n",
    "#json.load() se koristi da se procita JSON\n",
    "df_raw = pd.DataFrame(data)\n",
    "df_raw.head() #ispisuje prvih 5 sa vrha\n",
    "df_raw.info() #ispisuje detaljnije informacije\n",
    "\n",
    "kolone_koje_hocemo = ['name', 'independent', 'status', 'capital', 'area', 'borders']\n",
    "df = df_raw[kolone_koje_hocemo].copy()\n",
    "df.head()\n",
    "\n",
    "df['country_name'] = df['name'].apply(lambda x: x['common'])\n",
    "df.head()\n",
    "df['capital_city'] = df['capital'].apply(lambda x: x[0])\n",
    "df.head()\n",
    "df = df.drop(columns=['name', 'capital'])\n",
    "df.head()\n",
    "df.to_csv('drzave_za_bazu.csv', index=False, encoding='utf-8')\n",
    "\n",
    "#filtered_df = df.iloc[:, [4, 5]] #filtriranje kolona po indeksu\n",
    "#filtered_df.head()\n",
    "\n",
    "#filtered_df = filtered_df.rename(columns={'country_name': 'naziv_drzave', 'capital_city': 'glavni_grad'})\n",
    "#filtered_df.head()\n",
    "\n",
    "#filtered_df.to_csv('drzave_filtrirano.csv', index=False, encoding='utf-8')"
   ]
  },
  {
   "cell_type": "code",
   "execution_count": 24,
   "id": "0618df45-3916-4c3a-b4be-2e7eecb1303f",
   "metadata": {},
   "outputs": [
    {
     "name": "stdout",
     "output_type": "stream",
     "text": [
      "select area from countries order by area desc limit 2;\n"
     ]
    },
    {
     "data": {
      "text/html": [
       "<div>\n",
       "<style scoped>\n",
       "    .dataframe tbody tr th:only-of-type {\n",
       "        vertical-align: middle;\n",
       "    }\n",
       "\n",
       "    .dataframe tbody tr th {\n",
       "        vertical-align: top;\n",
       "    }\n",
       "\n",
       "    .dataframe thead th {\n",
       "        text-align: right;\n",
       "    }\n",
       "</style>\n",
       "<table border=\"1\" class=\"dataframe\">\n",
       "  <thead>\n",
       "    <tr style=\"text-align: right;\">\n",
       "      <th></th>\n",
       "      <th>area</th>\n",
       "    </tr>\n",
       "  </thead>\n",
       "  <tbody>\n",
       "    <tr>\n",
       "      <th>0</th>\n",
       "      <td>17098242.0</td>\n",
       "    </tr>\n",
       "    <tr>\n",
       "      <th>1</th>\n",
       "      <td>9984670.0</td>\n",
       "    </tr>\n",
       "  </tbody>\n",
       "</table>\n",
       "</div>"
      ],
      "text/plain": [
       "         area\n",
       "0  17098242.0\n",
       "1   9984670.0"
      ]
     },
     "metadata": {},
     "output_type": "display_data"
    }
   ],
   "source": [
    "import pandas as pd\n",
    "import sqlite3\n",
    "\n",
    "#ucitavanje podataka iz csv fajla u data frame df\n",
    "df = pd.read_csv('drzave_za_bazu.csv')\n",
    "df.head()\n",
    "\n",
    "#otvaranje konekcije sa bazom\n",
    "db_connection = sqlite3.connect('drzave_baza.db') \n",
    "\n",
    "table_name = 'countries'\n",
    "\n",
    "#kreiranje tabele u bazi iz df\n",
    "df.to_sql(table_name, db_connection, if_exists='replace', index=False)\n",
    "\n",
    "#rad sa bazom\n",
    "query1 = \"select * from countries limit 7;\"\n",
    "df_iz_baze1 = pd.read_sql_query(query1, db_connection)\n",
    "#query2 = \"select country_name, area from countries order by area desc limit 10;\"\n",
    "\n",
    "#limit = input(\"Koliko drzava da se ispise?\")\n",
    "#columns = input(\"Koje kolone da se prikazu?\")\n",
    "#rows = \"\"\n",
    "query2 = \"select \" + columns + \" from countries order by area desc limit \" + str(limit) + \";\"\n",
    "print(query2)\n",
    "df_iz_baze2 = pd.read_sql_query(query2, db_connection)\n",
    "display(df_iz_baze2)\n",
    "\n",
    "query3 = \"select count(*) as number_of_countries from countries where area > 100000.0;\"\n",
    "df_iz_baze3 = pd.read_sql_query(query3, db_connection)\n",
    "#display(df_iz_baze3)\n",
    "\n",
    "#zatvaranje konekcije sa bazom\n",
    "db_connection.close()\n"
   ]
  },
  {
   "cell_type": "code",
   "execution_count": null,
   "id": "05fce927-1cd6-42b7-ac62-a9edecd77e2c",
   "metadata": {},
   "outputs": [],
   "source": []
  }
 ],
 "metadata": {
  "kernelspec": {
   "display_name": "Python [conda env:base] *",
   "language": "python",
   "name": "conda-base-py"
  },
  "language_info": {
   "codemirror_mode": {
    "name": "ipython",
    "version": 3
   },
   "file_extension": ".py",
   "mimetype": "text/x-python",
   "name": "python",
   "nbconvert_exporter": "python",
   "pygments_lexer": "ipython3",
   "version": "3.12.7"
  }
 },
 "nbformat": 4,
 "nbformat_minor": 5
}
