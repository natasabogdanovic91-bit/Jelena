{
 "cells": [
  {
   "cell_type": "markdown",
   "id": "a8dbc92f-ebd1-462c-a08d-41971beac698",
   "metadata": {},
   "source": [
    "\"Big O\" notacija\n",
    "\n",
    "Vremenska slozenost algoritma\n",
    "\n",
    "- O(1) - konstantno vreme, najbrze i najefikasnije, na primer neka racunska operacija, pristup elemntu u recniku, ...\n",
    "- O(logn) - logaritamsko vreme, Binarno pretrazivanje\n",
    "- O(n) - linearno vreme, npr prolazak kroz listu (for petlja)\n",
    "- O(n^2) - kvadratno vreme, npr prolazak kroz dvodimenzionalni niz/listu (dve for petlje jedna unutar druge)"
   ]
  },
  {
   "cell_type": "markdown",
   "id": "c52f9b2c-fb4b-4b9c-be6c-1137c6dc4643",
   "metadata": {},
   "source": [
    "Zadatak: Prebrojati elemente u listi koji su veci od 0.\n",
    "Resenje:\n",
    "lista = [2,-1,5,-6,3,-34,543,33,-12] --konkretna lista, slozenost je za opsti slucaj\n",
    "brojac_pozitivnih = 0\n",
    "\n",
    "for broj in lista:\n",
    "    if broj > 0:\n",
    "        brojac_pozitivnih += 1\n",
    "\n",
    "print(\"Ukupno pozitivnih u listi: \" + brojac_pozitivnih)\n",
    "Sledece pitanje: Koja je vremenska slozenost ovog algoritma?\n",
    "Odgovor: Vremenska slozenost je O(n), za listu duzine n, zato sto da bi se prebrojali svi pozitivni elementi, treba da prodjemo kroz celu listu od n clanova i da za svaki clan proverimo da li je > 0. Provera da li je broj > 0 je konkstante vremenske slozenosti O(1), a prolaz kroz listu od n clanova je O(n)."
   ]
  },
  {
   "cell_type": "code",
   "execution_count": 3,
   "id": "34c44c38-794d-423c-911a-cbfc15dbfb5a",
   "metadata": {},
   "outputs": [
    {
     "name": "stdout",
     "output_type": "stream",
     "text": [
      "Originalna lista: [38, 39, 5, 23, 56, 3, 6, 22, 90]\n",
      "Bubble sort: [3, 5, 6, 22, 23, 38, 39, 56, 90]\n"
     ]
    }
   ],
   "source": [
    "lista_podataka = [38,39,5,23,56,3,6,22,90]\n",
    "print(f\"Originalna lista: {lista_podataka}\")\n",
    "\n",
    "#sortiranje liste\n",
    "#bubble sort algoritam - spor\n",
    "\n",
    "def bubble_sort(lista):\n",
    "    n = len(lista) # n = 9\n",
    "    for i in range(n): # 0 do n-1\n",
    "        vec_sortirano = True #true/false flag da proverimo da li je vec bilo zamena u ovom prolazu\n",
    "        for j in range(0, n-i-1): # 0 do n-i-1-1\n",
    "            if (lista[j] > lista[j+1]):\n",
    "                lista[j], lista[j+1] = lista[j+1], lista[j]\n",
    "                vec_sortirano = False\n",
    "        if vec_sortirano:\n",
    "            break # optimizacija, ako nema vise zamena u nekom prolazu, znaci da nema potrebe da proverava do kraja jer je vec sortirano\n",
    "    return lista\n",
    "\n",
    "print(f\"Bubble sort: {bubble_sort(lista_podataka.copy())}\")"
   ]
  },
  {
   "cell_type": "markdown",
   "id": "c9bc7c4a-ec25-4937-8003-9e7ffaafae30",
   "metadata": {},
   "source": [
    "bubble sort na lista_podataka:\n",
    "\n",
    "\n",
    "n = 9\n",
    "prvi prolaz:\n",
    "i = 0\n",
    "j = 0\n",
    "lista[j] = lista[0] = 38\n",
    "lista[j+1] = lista[1] = 39\n",
    "lista_podataka = [38,39,5,23,56,3,6,22,90]\n",
    "\n",
    "drugi prolaz:\n",
    "i = 0\n",
    "j = 1\n",
    "lista[j] = lista[1] = 39\n",
    "lista[j+1] = lista[2] = 5\n",
    "lista_podataka = [38,5,39,23,56,3,6,22,90]\n",
    "\n",
    "...\n",
    "\n",
    "i = 0\n",
    "j = 7\n",
    "lista[j] = lista[7] = 56\n",
    "lista[j+1] = lista[8] = 90\n",
    "lista_podataka = [38,5,23,39,3,6,22,56,90]\n",
    "\n",
    "i = 1\n",
    "j = 0\n",
    "lista[j] = lista[0] = 56\n",
    "lista[j+1] = lista[1] = 90\n",
    "lista_podataka = [38,5,23,39,3,6,22,56,90]\n",
    "\n",
    "...\n",
    "\n",
    "vremenska slozenost za bubble sort je O(n^2) jer za svaki prolaz iz prve for petlje (kojih ima n) imamo jos maksimalno n-1 prolaza u drugoj for petlji, pa je O(n)xO(n-1) = O(n^2-n) = O(n^2)"
   ]
  },
  {
   "cell_type": "code",
   "execution_count": 5,
   "id": "cbbb3a64-e9a9-4eae-b5aa-b4dda1b21d29",
   "metadata": {},
   "outputs": [
    {
     "name": "stdout",
     "output_type": "stream",
     "text": [
      "Originalna lista: [38, 39, 5, 23, 56, 3, 6, 22, 90]\n",
      "Selection sort: [3, 5, 6, 22, 23, 38, 39, 56, 90]\n"
     ]
    }
   ],
   "source": [
    "lista_podataka = [38,39,5,23,56,3,6,22,90]\n",
    "print(f\"Originalna lista: {lista_podataka}\")\n",
    "\n",
    "#sortiranje liste\n",
    "#selection sort algoritam - malo bolji od bubble sort, ali i dalje spor O(n^2)\n",
    "\n",
    "def selection_sort(lista):\n",
    "    n = len(lista) # n = 9\n",
    "    for i in range(n): # 0 do n-1\n",
    "        min_index = i\n",
    "        for j in range(i+1, n): # i+1 do n-1\n",
    "            if (lista[j] < lista[min_index]):\n",
    "                min_index = j\n",
    "        lista[i], lista[min_index] = lista[min_index], lista[i]\n",
    "    return lista\n",
    "\n",
    "print(f\"Selection sort: {selection_sort(lista_podataka.copy())}\")"
   ]
  },
  {
   "cell_type": "markdown",
   "id": "a9afbe92-ee52-4edc-8b8e-3b8f2508ed01",
   "metadata": {},
   "source": [
    "Efikasniji sortovi: Merge sort, quick sort oni su slozenosti O(nlogn)"
   ]
  },
  {
   "cell_type": "code",
   "execution_count": 9,
   "id": "d75c5f36-4981-48c3-9c92-fa68e7b7acc6",
   "metadata": {},
   "outputs": [
    {
     "name": "stdout",
     "output_type": "stream",
     "text": [
      "Originalna lista: [38, 39, 5, 23, 56, 3, 6, 22, 90]\n",
      "Python sort: [38, 39, 5, 23, 56, 3, 6, 22, 90]\n",
      "Python sort: [3, 5, 6, 22, 23, 38, 39, 56, 90]\n"
     ]
    }
   ],
   "source": [
    "lista_podataka = [38,39,5,23,56,3,6,22,90]\n",
    "print(f\"Originalna lista: {lista_podataka}\")\n",
    "\n",
    "#lista_podataka.sort() #menja listu\n",
    "#print(f\"Python sort: {lista_podataka}\") \n",
    "\n",
    "sorted_list = sorted(lista_podataka) #kreira novu sortiranu listu\n",
    "print(f\"Python sort: {lista_podataka}\")\n",
    "print(f\"Python sort: {sorted_list}\")"
   ]
  },
  {
   "cell_type": "code",
   "execution_count": 15,
   "id": "cd7cad03-3406-43e4-9fac-22d3296e89df",
   "metadata": {},
   "outputs": [
    {
     "name": "stdout",
     "output_type": "stream",
     "text": [
      "Originalna lista: [38, 39, 5, 23, 56, 3, 6, 22, 90]\n",
      "Selection sort: [90, 56, 39, 38, 23, 22, 6, 5, 3]\n"
     ]
    }
   ],
   "source": [
    "lista_podataka = [38,39,5,23,56,3,6,22,90]\n",
    "print(f\"Originalna lista: {lista_podataka}\")\n",
    "\n",
    "#sortiranje liste\n",
    "#selection sort algoritam - malo bolji od bubble sort, ali i dalje spor O(n^2)\n",
    "\n",
    "def selection_sort_desc(lista):\n",
    "    n = len(lista) # n = 9\n",
    "    for i in range(n):\n",
    "        max_index = i\n",
    "        for j in range(i+1, n): \n",
    "            if (lista[j] > lista[max_index]):\n",
    "                max_index = j\n",
    "        lista[i], lista[max_index] = lista[max_index], lista[i]\n",
    "    return lista\n",
    "\n",
    "print(f\"Selection sort: {selection_sort_desc(lista_podataka.copy())}\")"
   ]
  },
  {
   "cell_type": "code",
   "execution_count": 23,
   "id": "9dba2f63-544d-483f-9dff-742e3e7ac79d",
   "metadata": {},
   "outputs": [
    {
     "name": "stdout",
     "output_type": "stream",
     "text": [
      "Sortirano po godinama rastuce:  [{'ime': 'Pera', 'godine': 30, 'grad': 'Beograd'}, {'ime': 'Mika', 'godine': 30, 'grad': 'Nis'}, {'ime': 'Pera', 'godine': 33, 'grad': 'Novi Sad'}, {'ime': 'Djura', 'godine': 36, 'grad': 'Novi Sad'}, {'ime': 'Mika', 'godine': 56, 'grad': 'Sombor'}, {'ime': 'Zika', 'godine': 56, 'grad': 'Beograd'}, {'ime': 'Mika', 'godine': 80, 'grad': 'Zrenjanin'}, {'ime': 'Djura', 'godine': 89, 'grad': 'Nis'}]\n",
      "Sortirano po godinama opadajuce:  [{'ime': 'Djura', 'godine': 89, 'grad': 'Nis'}, {'ime': 'Mika', 'godine': 80, 'grad': 'Zrenjanin'}, {'ime': 'Mika', 'godine': 56, 'grad': 'Sombor'}, {'ime': 'Zika', 'godine': 56, 'grad': 'Beograd'}, {'ime': 'Djura', 'godine': 36, 'grad': 'Novi Sad'}, {'ime': 'Pera', 'godine': 33, 'grad': 'Novi Sad'}, {'ime': 'Pera', 'godine': 30, 'grad': 'Beograd'}, {'ime': 'Mika', 'godine': 30, 'grad': 'Nis'}]\n"
     ]
    }
   ],
   "source": [
    "ljudi = [\n",
    "    {'ime': 'Pera', 'godine': 30, 'grad': 'Beograd'},\n",
    "    {'ime': 'Pera', 'godine': 33, 'grad': 'Novi Sad'},\n",
    "    {'ime': 'Mika', 'godine': 30, 'grad': 'Nis'},\n",
    "    {'ime': 'Mika', 'godine': 56, 'grad': 'Sombor'},\n",
    "    {'ime': 'Mika', 'godine': 80, 'grad': 'Zrenjanin'},\n",
    "    {'ime': 'Zika', 'godine': 56, 'grad': 'Beograd'},\n",
    "    {'ime': 'Djura', 'godine': 36, 'grad': 'Novi Sad'},\n",
    "    {'ime': 'Djura', 'godine': 89, 'grad': 'Nis'}\n",
    "]\n",
    "\n",
    "#sortiranje po godinama, rastuce\n",
    "sort_rastuce_po_godinama = sorted(ljudi, key=lambda ljudi: ljudi['godine'])\n",
    "print(\"Sortirano po godinama rastuce: \", sort_rastuce_po_godinama)\n",
    "\n",
    "#sortiranje po godinama, opadajuce\n",
    "sort_opadajuce_po_godinama = sorted(ljudi, key=lambda ljudi: ljudi['godine'], reverse=True)\n",
    "print(\"Sortirano po godinama opadajuce: \", sort_opadajuce_po_godinama)"
   ]
  },
  {
   "cell_type": "code",
   "execution_count": 25,
   "id": "8e0aac0a-69bd-4d81-8322-7b016be6607a",
   "metadata": {},
   "outputs": [
    {
     "name": "stdout",
     "output_type": "stream",
     "text": [
      "Sortirano po duzini reci:  ['papagaj', 'godine', 'drzava', 'covek', 'macka', 'grad', 'pera', 'pas']\n"
     ]
    }
   ],
   "source": [
    "reci = [\"grad\", \"godine\", \"pera\", \"drzava\", \"covek\", \"pas\", \"macka\", \"papagaj\"]\n",
    "sort_po_duzini_reci = sorted(reci, key=len, reverse=True)\n",
    "print(\"Sortirano po duzini reci: \", sort_po_duzini_reci)"
   ]
  },
  {
   "cell_type": "code",
   "execution_count": 1,
   "id": "3d2f89cc-e372-433d-908c-214ba7363474",
   "metadata": {},
   "outputs": [
    {
     "name": "stdout",
     "output_type": "stream",
     "text": [
      "test\n"
     ]
    }
   ],
   "source": [
    "print(\"test\")"
   ]
  },
  {
   "cell_type": "code",
   "execution_count": 2,
   "id": "86fd3578-11a3-4347-8470-4a6548678cb2",
   "metadata": {},
   "outputs": [
    {
     "name": "stdout",
     "output_type": "stream",
     "text": [
      "[0, 1, 2, 3, 4, 5]\n",
      "{0: 0, 1: 1, 2: 2, 3: 3, 4: 4, 5: 5}\n"
     ]
    }
   ],
   "source": [
    "lista = list(range(6))\n",
    "recnik = {x: x for x in range(6)}\n",
    "\n",
    "print(lista)\n",
    "print(recnik)"
   ]
  },
  {
   "cell_type": "code",
   "execution_count": 7,
   "id": "9b6da0ee-4c3f-408d-aeb4-d4bdda160382",
   "metadata": {},
   "outputs": [
    {
     "data": {
      "text/plain": [
       "True"
      ]
     },
     "execution_count": 7,
     "metadata": {},
     "output_type": "execute_result"
    }
   ],
   "source": [
    "recnik = {\n",
    "    \"ime\": \"Pera\",\n",
    "    \"prezime\": \"Peric\",\n",
    "    \"godine\": 50\n",
    "}\n",
    "\n",
    "\"Pera\" in recnik[\"ime\"] #pretraga po vrednosti\n",
    "\"ime\" in recnik #pretraga po kljucu"
   ]
  },
  {
   "cell_type": "code",
   "execution_count": 8,
   "id": "d92010b9-08e7-4cb4-8aab-a17d6ff37982",
   "metadata": {},
   "outputs": [
    {
     "name": "stdout",
     "output_type": "stream",
     "text": [
      "Vreme pretrage liste: 0.030560\n",
      "Vreme pretrage recnika: 0.000000\n"
     ]
    }
   ],
   "source": [
    "#pretrazivanje liste i recnika poredjenje\n",
    "import time\n",
    "\n",
    "lista = list(range(1000000))\n",
    "recnik = {x: x for x in range(1000000)}\n",
    "target=999999\n",
    "\n",
    "start_time = time.time()\n",
    "target in lista\n",
    "end_time = time.time()\n",
    "print(f\"Vreme pretrage liste: {end_time - start_time:.6f}\")\n",
    "\n",
    "start_time = time.time()\n",
    "target in recnik\n",
    "end_time = time.time()\n",
    "print(f\"Vreme pretrage recnika: {end_time - start_time:.6f}\")"
   ]
  },
  {
   "cell_type": "code",
   "execution_count": 11,
   "id": "39f4bd1d-d27e-46b9-9045-233bcf28beb5",
   "metadata": {},
   "outputs": [
    {
     "name": "stdout",
     "output_type": "stream",
     "text": [
      "Vreme pretrage liste: 0.040761\n",
      "Vreme pretrage liste binary: 0.000000\n"
     ]
    }
   ],
   "source": [
    "def binary_search(data, target):\n",
    "    levi = 0\n",
    "    desni = len(data) - 1\n",
    "\n",
    "    while (levi <= desni):\n",
    "        sredina = (levi + desni) // 2\n",
    "        sredina_vrednost = data[sredina]\n",
    "\n",
    "        if sredina_vrednost == target:\n",
    "            return f\"Element {target} postoji na mestu {sredina}.\"\n",
    "        elif sredina_vrednost > target:\n",
    "            desni = sredina - 1\n",
    "        else:\n",
    "            levi = sredina + 1\n",
    "    return f\"Element {target} ne postoji.\"\n",
    "\n",
    "lista = list(range(1000000))\n",
    "target = 999999\n",
    "\n",
    "start_time = time.time()\n",
    "target in lista\n",
    "end_time = time.time()\n",
    "print(f\"Vreme pretrage liste: {end_time - start_time:.6f}\")\n",
    "\n",
    "start_time = time.time()\n",
    "binary_search(lista, target)\n",
    "end_time = time.time()\n",
    "print(f\"Vreme pretrage liste binary: {end_time - start_time:.6f}\")"
   ]
  },
  {
   "cell_type": "code",
   "execution_count": 18,
   "id": "6ddad440-f6b3-4967-8df0-42203b55dde8",
   "metadata": {},
   "outputs": [
    {
     "name": "stdout",
     "output_type": "stream",
     "text": [
      "['Pera', 'Mika', 'Zika', 'Djura']\n",
      "ime       Zika\n",
      "godine      35\n",
      "grad       Nis\n",
      "Name: Covek3, dtype: object\n",
      "         ime  godine     grad\n",
      "Covek1  Pera      34  Beograd\n",
      "Covek3  Zika      35      Nis\n",
      "Empty DataFrame\n",
      "Columns: [ime, godine, grad]\n",
      "Index: []\n"
     ]
    }
   ],
   "source": [
    "import pandas as pd\n",
    "\n",
    "recnik = {\n",
    "    \"ime\": [\"Pera\", \"Mika\", \"Zika\", \"Djura\"],\n",
    "    \"godine\": [34,25,35,29],\n",
    "    \"grad\": [\"Beograd\", \"Novi Sad\", \"Nis\", \"Beograd\"]\n",
    "}\n",
    "\n",
    "df = pd.DataFrame(recnik, index=['Covek1', 'Covek2', 'Covek3', 'Covek4'])\n",
    "stariji_od_30_godina = df[df[\"godine\"] > 30]\n",
    "uslov = (df[\"ime\"] == \"Pera\") & (df[\"godine\"] < 30)\n",
    "rezultat = df[uslov]\n",
    "\n",
    "print(recnik[\"ime\"])\n",
    "print(df.loc['Covek3'])\n",
    "print(stariji_od_30_godina)\n",
    "print(rezultat)"
   ]
  },
  {
   "cell_type": "code",
   "execution_count": 24,
   "id": "65f07b82-9536-4f22-bf6a-2def51675726",
   "metadata": {},
   "outputs": [
    {
     "name": "stdout",
     "output_type": "stream",
     "text": [
      "['When', 'the', 'mysterious', 'deep', 'space', 'research', 'vessel', 'USCSS', 'Maginot', 'crash-lands', 'on', 'Earth,', 'Wendy', '(Sydney', 'Chandler)', 'and', 'a', 'ragtag', 'group', 'of', 'tactical', 'soldiers', 'make', 'a', 'fateful', 'discovery', 'that', 'puts', 'them', 'face-to-face', 'with', 'the', \"planet's\", 'greatest', 'threat.']\n",
      "...\n",
      "['(Sydney', 'Chandler)', 'Earth,', 'Maginot', 'USCSS', 'Wendy', 'When', 'a', 'a', 'and', 'crash-lands', 'deep', 'discovery', 'face-to-face', 'fateful', 'greatest', 'group', 'make', 'mysterious', 'of', 'on', \"planet's\", 'puts', 'ragtag', 'research', 'soldiers', 'space', 'tactical', 'that', 'the', 'the', 'them', 'threat.', 'vessel', 'with']\n",
      "Element putsw ne postoji.\n"
     ]
    }
   ],
   "source": [
    "def binary_search(data, target):\n",
    "    levi = 0\n",
    "    desni = len(data) - 1\n",
    "\n",
    "    while (levi <= desni):\n",
    "        sredina = (levi + desni) // 2\n",
    "        sredina_vrednost = data[sredina]\n",
    "\n",
    "        if sredina_vrednost == target:\n",
    "            return f\"Element {target} postoji na mestu {sredina}.\"\n",
    "        elif sredina_vrednost > target:\n",
    "            desni = sredina - 1\n",
    "        else:\n",
    "            levi = sredina + 1\n",
    "    return f\"Element {target} ne postoji.\"\n",
    "\n",
    "txt = \"When the mysterious deep space research vessel USCSS Maginot crash-lands on Earth, Wendy (Sydney Chandler) and a ragtag group of tactical soldiers make a fateful discovery that puts them face-to-face with the planet's greatest threat.\"\n",
    "lista = txt.split()\n",
    "print(lista)\n",
    "sortirana_lista = sorted(lista)\n",
    "print(\"...\")\n",
    "print(sortirana_lista)\n",
    "print(binary_search(sortirana_lista, \"puts\"))"
   ]
  },
  {
   "cell_type": "code",
   "execution_count": null,
   "id": "109e1788-09ea-451c-a2b7-761145e58bb3",
   "metadata": {},
   "outputs": [],
   "source": []
  }
 ],
 "metadata": {
  "kernelspec": {
   "display_name": "Python [conda env:base] *",
   "language": "python",
   "name": "conda-base-py"
  },
  "language_info": {
   "codemirror_mode": {
    "name": "ipython",
    "version": 3
   },
   "file_extension": ".py",
   "mimetype": "text/x-python",
   "name": "python",
   "nbconvert_exporter": "python",
   "pygments_lexer": "ipython3",
   "version": "3.12.7"
  }
 },
 "nbformat": 4,
 "nbformat_minor": 5
}
