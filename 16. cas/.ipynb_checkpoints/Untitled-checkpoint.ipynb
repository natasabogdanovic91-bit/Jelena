{
 "cells": [
  {
   "cell_type": "markdown",
   "id": "d2077426-35de-4479-ac3f-126914900d7b",
   "metadata": {},
   "source": [
    "Priprema za data engineering intervju (junior)\n",
    "\n",
    "Najbitnije stavke:\n",
    "1. SQL: upiti (sa join), funkcije, primarni i strani kljucevi, indexi,...\n",
    "2. Python: strukture podataka, osnove OOP, Pandas, NumPy,...\n",
    "3. ETL proces: razumevanje procesa po fazama,...\n",
    "4. Relacione baze: razumevanje i osnove relacionih baza, MySQL, PostgreSQL,...\n",
    "\n",
    "Bitne stavke:\n",
    "1. Cloud platforme: osnovno poznavanje servisa za skladistenje i obrada podataka, Azure, AWS, GCP,...\n",
    "2. Osnove Big data tehnologija: Apache Spark i Hadoop koncepti\n",
    "3. Git: Kontrola verzija\n",
    "4. Linux command line\n",
    "\n",
    "Nice to have:\n",
    "1. NoSQL baze: koncepti npr MongoDB\n",
    "2. Alati za orkestraciju: Apache Airflow\n",
    "3. Docker i Kubernetes\n",
    "4. PowerBI"
   ]
  },
  {
   "cell_type": "markdown",
   "id": "02d7169e-ab6d-4645-8b8a-c930922a87f8",
   "metadata": {},
   "source": [
    "SQL: upiti (sa join), funkcije, primarni i strani kljucevi, indexi,...\n",
    "\n",
    "1. Primarni kljuc: jedinstveni identifikator za svaki red u tabeli (JBMG na primer), ne sme biti NULL\n",
    "2. Strani kljuc: Polje ili vise polja u jednoj tabeli koje referencira primarni kljuc u drugoj tabeli, povezuje tabele i uspostavlja relacije izmedju njih\n",
    "3. Indexi: kao indeksacija na kraju knjige, omogucavaju da se ne prolazi cela tabela nego da se pogleda index i odmah ide na odgovarajuci red, ubrzavaju select i where, ali usporavaju insert, update i delete\n",
    "4. Normalizacija baze podataka: eliminisanje dupliranih podataka, osiguravanje logickih veza, prve 3 normalne forme 1NF, 2NF, 3NF resavaju najcesce probleme u dizajnu\n",
    "5. JOIN:\n",
    "- INNER JOIN: vraca samo redove koji imaju poklapanje u obe tabele, kao presek skupova\n",
    "- LEFT OUTER JOIN: vraca sve redove iz prve tabele i samo poklapajuce iz druge tabele\n",
    "- RIGHT OUTER JOIN: vraca sve redove iz druge tabele i samo poklapajuce iz prve\n",
    "- FULL OUTER JOIN: vraca sve redove iz obe tabele, ako postoji poklapanje, redovi se spajaju\n",
    "6. Funkcije: count(), sum(), avg(), min(), max(), group by, having"
   ]
  },
  {
   "cell_type": "markdown",
   "id": "9e4b7717-e670-4863-b1f7-c9e6ceda84ea",
   "metadata": {},
   "source": [
    "Python\n",
    "\n",
    "1. Liste []: uredjene i promenljive kolekcije elemenata\n",
    "2. Torke (): Uredjene nepromenljive kolekcije elemenata; prednost je da su brze od listi; ali ne mogu da se menjaju\n",
    "3. Recnici {}: Kolekcije parova kljuc/vrednost gde je kljuc jedinstven; brzi za pretrgu po kljucu, osnova za mnoge strukture ukljucujuci JSON format\n",
    "\n",
    "NumPy i Pandas"
   ]
  },
  {
   "cell_type": "code",
   "execution_count": 7,
   "id": "23aec658-915f-4558-a9bf-46f8cb8a4693",
   "metadata": {},
   "outputs": [
    {
     "name": "stdout",
     "output_type": "stream",
     "text": [
      "(1, 2, 3, 4)\n"
     ]
    }
   ],
   "source": [
    "torka = (1,2,3,4)\n",
    "print(torka)"
   ]
  },
  {
   "cell_type": "markdown",
   "id": "dfb4141b-adb0-4e6c-85fd-d06056d6f54d",
   "metadata": {},
   "source": [
    "Osnove objektno orijentisanog programiranja\n",
    "class - klasa, sablon za kreiranje objekata, sadrzi atribute i metode\n",
    "objekat - instanca klase, konkretan primerak kreiran po sablonu klase\n",
    "atributi - promenljive unutar klase\n",
    "metode - funkcije unurat klase, prvi argument metode je self, koji predstavlja samu instancu objekta\n",
    "__init__(self, ...) - konstruktor, to je posebna metoda koja se automatski poziva prilikom kreiranja novog objekta i koristi se za inicijalizaciju atributa"
   ]
  },
  {
   "cell_type": "code",
   "execution_count": 9,
   "id": "f215c743-9dde-4ba8-bc1b-8dee90b1c47b",
   "metadata": {},
   "outputs": [
    {
     "name": "stdout",
     "output_type": "stream",
     "text": [
      "P1\n",
      "baza podataka\n",
      "Nije zapocet\n",
      "P2\n",
      "CSV fajl\n",
      "Nije zapocet\n",
      "projekat je zapocet\n",
      "P1\n",
      "baza podataka\n",
      "Zapocet\n",
      "P2\n",
      "CSV fajl\n",
      "Nije zapocet\n"
     ]
    }
   ],
   "source": [
    "class Projekat:\n",
    "    #konstruktor\n",
    "    def __init__(self, naziv, izvor_podataka):\n",
    "        self.naziv = naziv\n",
    "        self.izvor_podataka = izvor_podataka\n",
    "        self.status = \"Nije zapocet\"\n",
    "\n",
    "    def prikazi_info(self):\n",
    "        print(self.naziv)\n",
    "        print(self.izvor_podataka)\n",
    "        print(self.status)\n",
    "\n",
    "    def zapocni_projekat(self):\n",
    "        self.status = \"Zapocet\"\n",
    "        print(\"projekat je zapocet\")\n",
    "\n",
    "projekat1 = Projekat(\"P1\", \"baza podataka\")\n",
    "projekat2 = Projekat(\"P2\", \"CSV fajl\")\n",
    "\n",
    "projekat1.prikazi_info()\n",
    "projekat2.prikazi_info()\n",
    "\n",
    "projekat1.zapocni_projekat()\n",
    "\n",
    "projekat1.prikazi_info()\n",
    "projekat2.prikazi_info()"
   ]
  },
  {
   "cell_type": "code",
   "execution_count": 13,
   "id": "4f28e2a4-6168-415b-95e9-235abc099368",
   "metadata": {},
   "outputs": [
    {
     "name": "stdout",
     "output_type": "stream",
     "text": [
      "Zbir\n",
      "5\n",
      "---\n",
      "Zbir\n",
      "9\n",
      "---\n",
      "Proizvod\n",
      "6\n",
      "---\n",
      "Proizvod\n",
      "20\n"
     ]
    }
   ],
   "source": [
    "class OperacijaBrojeva:\n",
    "    #konstruktor\n",
    "    def __init__(self, broj1, broj2):\n",
    "        self.broj1 = broj1\n",
    "        self.broj2 = broj2\n",
    "\n",
    "    def zbir(self):\n",
    "        print(\"Zbir\")\n",
    "        print(self.broj1 + self.broj2)\n",
    "\n",
    "    def prozvod(self):\n",
    "        print(\"Proizvod\")\n",
    "        print(self.broj1 * self.broj2)\n",
    "\n",
    "op1 = OperacijaBrojeva(2, 3)\n",
    "op2 = OperacijaBrojeva(4, 5)\n",
    "\n",
    "op1.zbir()\n",
    "print(\"---\")\n",
    "op2.zbir()\n",
    "print(\"---\")\n",
    "op1.prozvod()\n",
    "print(\"---\")\n",
    "op2.prozvod()"
   ]
  },
  {
   "cell_type": "markdown",
   "id": "d07c0e31-b9b2-41ea-9824-e6cc370f8423",
   "metadata": {},
   "source": [
    "Zadatak: Napisati funkciju koja prihvata tekstualni fajl kao ulaz i vraca recnik gde su kljucevi reci iz teksta a vrednosti broj njihovog pojavljivanja. Ignorisati mala i velika slova.\n",
    "\n",
    "ulazni tekst iz fajla: \"abc, uo if abc. if abc abc\"\n",
    "izlaz: {\n",
    "    \"abc\": 4,\n",
    "    \"uo\": 1,\n",
    "    \"if\": 2\n",
    "}\n",
    "\n",
    "Algoritam:\n",
    "1. ucitamo fajl\n",
    "2. prolazimo kroz fajl red po red\n",
    "    3. za svaki red uklanjamo zanke interpunkcije\n",
    "    4. podelimo red na reci\n",
    "    5. prolazimo kroz reci\n",
    "        6. za svaku rec proverimo da li je vec dodata u recnik, ako jeste povecamo broj ponavljanja, ako nije dodamo novu rec"
   ]
  },
  {
   "cell_type": "code",
   "execution_count": 16,
   "id": "3f0e558d-9d88-4c73-9644-9368ed19c2e2",
   "metadata": {},
   "outputs": [
    {
     "name": "stdout",
     "output_type": "stream",
     "text": [
      "{'congresswoman': 1, 'anna': 1, 'paulina': 1, 'luna': 3, 'has': 1, 'reignited': 1, 'interest': 1, 'in': 6, 'the': 13, 'sacred': 1, 'relic': 1, 'by': 1, 'spotlighting': 1, 'declassified': 1, '1988': 1, 'cia': 2, 'documents': 3, 'that': 2, 'allegedly': 2, 'used': 1, 'psychic': 3, 'remote': 2, 'viewing': 1, 'to': 4, 'track': 1, 'it': 3, 'located': 1, 'ark': 2, 'of': 4, 'covenant': 2, 'said': 2, 'on': 1, 'joe': 1, 'rogan': 1, 'experience': 1, 'calling': 1, 'an': 2, 'indiana': 1, 'jones': 1, 'moment': 1, 'detail': 1, 'viewer': 1, 'no': 1, '032': 1, 'trained': 1, 'perceive': 1, 'distant': 1, 'objects': 1, 'through': 1, 'means': 1, 'being': 1, 'given': 1, 'coordinates': 1, 'observe': 1, 'unidentified': 1, 'target': 1, 'viewers': 1, 'notes': 1, 'reportedly': 1, 'described': 1, 'a': 7, 'container': 1, 'wood': 1, 'gold': 1, 'and': 3, 'silver': 1, 'adorned': 1, 'with': 2, 'seraphim': 1, 'hidden': 1, 'dark': 1, 'wet': 1, 'underground': 1, 'site': 1, 'middle': 1, 'eastern': 1, 'region': 1, 'mosque': 1, 'domes': 1, 'arabicspeaking': 1, 'locals': 1, 'white': 1, 'robes': 1, 'these': 1, 'files': 2, 'were': 2, 'part': 1, 'cias': 1, 'project': 1, 'sun': 1, 'streak': 1, 'cold': 1, 'warera': 1, 'program': 1, 'exploring': 1, 'phenomena': 1, 'for': 2, 'intelligence': 1, 'gathering': 1, 'state': 1, 'which': 1, 'released': 1, '2000': 1, 'resurfaced': 1, 'march': 1, '2025': 1, 'daily': 1, 'mail': 1, 'article': 1, 'we': 1, 'dont': 1, 'know': 1, 'how': 1, 'far': 1, 'went': 1, 'i': 1, 'definitely': 1, 'have': 1, 'questions': 1, 'but': 1, 'this': 1, 'wouldnt': 1, 'be': 1, 'first': 1, 'time': 1, 'government': 1, 'searched': 1, 'something': 1, 'especially': 1, 'since': 1, 'some': 1, 'theorize': 1, 'possessed': 1, 'powers': 1, 'akin': 1, 'superweapon': 1}\n"
     ]
    }
   ],
   "source": [
    "import re\n",
    "\n",
    "def prebrojavanje_reci(putanja_do_fajla):\n",
    "    #putanja_do_fajla je string sa putanjom\n",
    "    recnik = {}\n",
    "    try:\n",
    "        with open(putanja_do_fajla, 'r', encoding='utf-8') as fajl:\n",
    "            for red in fajl:\n",
    "                red = re.sub(r'[^\\w\\s]', '', red).lower()\n",
    "                reci = red.split()\n",
    "                for rec in reci:\n",
    "                    if rec in recnik:\n",
    "                        recnik[rec] += 1\n",
    "                    else:\n",
    "                        recnik[rec] = 1\n",
    "    except FileNotFoundError:\n",
    "        print(\"Fajl nije pronadjen\")\n",
    "        return None\n",
    "    return recnik\n",
    "\n",
    "\n",
    "tekst_recnik = prebrojavanje_reci('tekst.txt')\n",
    "if tekst_recnik:\n",
    "    print(tekst_recnik)"
   ]
  },
  {
   "cell_type": "markdown",
   "id": "2ea07046-2be6-4daf-bece-42498db8d8af",
   "metadata": {},
   "source": [
    "Zadatak: dat je csv fajl koji sadrzi podatke o prodaji. Fajl ima kolone \"Proizvod\", \"Grad\" i \"Prihod\". napisati python skriptu koja ucitava podatke iz ovog fajla i pandas data frame, izracunava ukupan prihod po svakom gradu i pronalazi grad sa najvecim ukupnim prihodom"
   ]
  },
  {
   "cell_type": "code",
   "execution_count": 19,
   "id": "b4e5b500-a5f2-448d-8b5b-eb385d726c46",
   "metadata": {},
   "outputs": [
    {
     "name": "stdout",
     "output_type": "stream",
     "text": [
      "Beograd\n"
     ]
    }
   ],
   "source": [
    "import pandas as pd\n",
    "\n",
    "try:\n",
    "    df = pd.read_csv('prodaja.csv')\n",
    "except FileNotFoundError:\n",
    "    print(\"Fajl nije pronadjen\")\n",
    "\n",
    "ukupan_prihod_po_gradu = df.groupby('Grad')['Prihod'].sum()\n",
    "#print(ukupan_prihod_po_gradu)\n",
    "#ukupan_prihod_po_proizvodu = df.groupby('Proizvod')['Prihod'].sum()\n",
    "#print(ukupan_prihod_po_proizvodu)\n",
    "\n",
    "grad_sa_najvecim_prihodom = ukupan_prihod_po_gradu.idxmax()\n",
    "print(grad_sa_najvecim_prihodom)"
   ]
  },
  {
   "cell_type": "markdown",
   "id": "41a1e63b-1e48-469c-91bd-f851a350e8c2",
   "metadata": {},
   "source": [
    "Zadatak: dat je csv fajl koji sadrzi podatke o korisnicima. Kolone su Ime, Email i  Datum_Registracije. Napisati skriptu koja:\n",
    "1. ucitava podatke iz csv fajla\n",
    "2. uklanja redove gde nedostaje email\n",
    "3. kreira novu kolonu 'Godina_Registracije' izdvajanjem godine iz datuma registracije"
   ]
  },
  {
   "cell_type": "code",
   "execution_count": 24,
   "id": "925b9dc7-081c-4777-8438-2bc98d0f17c4",
   "metadata": {},
   "outputs": [
    {
     "name": "stderr",
     "output_type": "stream",
     "text": [
      "C:\\Users\\Dejan\\AppData\\Local\\Temp\\ipykernel_2820\\3782884035.py:12: SettingWithCopyWarning: \n",
      "A value is trying to be set on a copy of a slice from a DataFrame.\n",
      "Try using .loc[row_indexer,col_indexer] = value instead\n",
      "\n",
      "See the caveats in the documentation: https://pandas.pydata.org/pandas-docs/stable/user_guide/indexing.html#returning-a-view-versus-a-copy\n",
      "  ima_email_df['Datum_Registracije'] = pd.to_datetime(ima_email_df['Datum_Registracije'])\n",
      "C:\\Users\\Dejan\\AppData\\Local\\Temp\\ipykernel_2820\\3782884035.py:13: SettingWithCopyWarning: \n",
      "A value is trying to be set on a copy of a slice from a DataFrame.\n",
      "Try using .loc[row_indexer,col_indexer] = value instead\n",
      "\n",
      "See the caveats in the documentation: https://pandas.pydata.org/pandas-docs/stable/user_guide/indexing.html#returning-a-view-versus-a-copy\n",
      "  ima_email_df['Godina_Registracije'] = ima_email_df['Datum_Registracije'].dt.year\n"
     ]
    },
    {
     "data": {
      "text/html": [
       "<div>\n",
       "<style scoped>\n",
       "    .dataframe tbody tr th:only-of-type {\n",
       "        vertical-align: middle;\n",
       "    }\n",
       "\n",
       "    .dataframe tbody tr th {\n",
       "        vertical-align: top;\n",
       "    }\n",
       "\n",
       "    .dataframe thead th {\n",
       "        text-align: right;\n",
       "    }\n",
       "</style>\n",
       "<table border=\"1\" class=\"dataframe\">\n",
       "  <thead>\n",
       "    <tr style=\"text-align: right;\">\n",
       "      <th></th>\n",
       "      <th>Ime</th>\n",
       "      <th>Email</th>\n",
       "      <th>Datum_Registracije</th>\n",
       "      <th>Godina_Registracije</th>\n",
       "    </tr>\n",
       "  </thead>\n",
       "  <tbody>\n",
       "    <tr>\n",
       "      <th>0</th>\n",
       "      <td>Ana Petrović</td>\n",
       "      <td>ana.p@gmail.com</td>\n",
       "      <td>2023-01-15</td>\n",
       "      <td>2023</td>\n",
       "    </tr>\n",
       "    <tr>\n",
       "      <th>2</th>\n",
       "      <td>Ivana Kovač</td>\n",
       "      <td>ivana.kov@gmail.com</td>\n",
       "      <td>2023-01-20</td>\n",
       "      <td>2023</td>\n",
       "    </tr>\n",
       "    <tr>\n",
       "      <th>4</th>\n",
       "      <td>Jelena Stojanov</td>\n",
       "      <td>jelena.st@gmail.com</td>\n",
       "      <td>2023-01-25</td>\n",
       "      <td>2023</td>\n",
       "    </tr>\n",
       "    <tr>\n",
       "      <th>5</th>\n",
       "      <td>Milan Đorđević</td>\n",
       "      <td>milan.d@gmail.com</td>\n",
       "      <td>2023-01-28</td>\n",
       "      <td>2023</td>\n",
       "    </tr>\n",
       "    <tr>\n",
       "      <th>7</th>\n",
       "      <td>Petar Lazić</td>\n",
       "      <td>petar.l@gmail.com</td>\n",
       "      <td>2023-02-03</td>\n",
       "      <td>2023</td>\n",
       "    </tr>\n",
       "    <tr>\n",
       "      <th>9</th>\n",
       "      <td>Luka Simić</td>\n",
       "      <td>luka.s@gmail.com</td>\n",
       "      <td>2023-02-08</td>\n",
       "      <td>2023</td>\n",
       "    </tr>\n",
       "    <tr>\n",
       "      <th>11</th>\n",
       "      <td>Stefan Pavlović</td>\n",
       "      <td>stefan.p@gmail.com</td>\n",
       "      <td>2023-02-12</td>\n",
       "      <td>2023</td>\n",
       "    </tr>\n",
       "    <tr>\n",
       "      <th>13</th>\n",
       "      <td>Aleksandar Kostić</td>\n",
       "      <td>aleks.k@gmail.com</td>\n",
       "      <td>2023-02-16</td>\n",
       "      <td>2023</td>\n",
       "    </tr>\n",
       "    <tr>\n",
       "      <th>15</th>\n",
       "      <td>Filip Radovanović</td>\n",
       "      <td>filip.r@gmail.com</td>\n",
       "      <td>2023-02-20</td>\n",
       "      <td>2023</td>\n",
       "    </tr>\n",
       "    <tr>\n",
       "      <th>17</th>\n",
       "      <td>Vladimir Petrović</td>\n",
       "      <td>vlad.pet@gmail.com</td>\n",
       "      <td>2023-02-24</td>\n",
       "      <td>2023</td>\n",
       "    </tr>\n",
       "    <tr>\n",
       "      <th>19</th>\n",
       "      <td>Bojan Nikolić</td>\n",
       "      <td>bojan.nik@gmail.com</td>\n",
       "      <td>2023-02-28</td>\n",
       "      <td>2023</td>\n",
       "    </tr>\n",
       "  </tbody>\n",
       "</table>\n",
       "</div>"
      ],
      "text/plain": [
       "                  Ime                Email Datum_Registracije  \\\n",
       "0        Ana Petrović      ana.p@gmail.com         2023-01-15   \n",
       "2         Ivana Kovač  ivana.kov@gmail.com         2023-01-20   \n",
       "4     Jelena Stojanov  jelena.st@gmail.com         2023-01-25   \n",
       "5      Milan Đorđević    milan.d@gmail.com         2023-01-28   \n",
       "7         Petar Lazić    petar.l@gmail.com         2023-02-03   \n",
       "9          Luka Simić     luka.s@gmail.com         2023-02-08   \n",
       "11    Stefan Pavlović   stefan.p@gmail.com         2023-02-12   \n",
       "13  Aleksandar Kostić    aleks.k@gmail.com         2023-02-16   \n",
       "15  Filip Radovanović    filip.r@gmail.com         2023-02-20   \n",
       "17  Vladimir Petrović   vlad.pet@gmail.com         2023-02-24   \n",
       "19      Bojan Nikolić  bojan.nik@gmail.com         2023-02-28   \n",
       "\n",
       "    Godina_Registracije  \n",
       "0                  2023  \n",
       "2                  2023  \n",
       "4                  2023  \n",
       "5                  2023  \n",
       "7                  2023  \n",
       "9                  2023  \n",
       "11                 2023  \n",
       "13                 2023  \n",
       "15                 2023  \n",
       "17                 2023  \n",
       "19                 2023  "
      ]
     },
     "metadata": {},
     "output_type": "display_data"
    }
   ],
   "source": [
    "import pandas as pd\n",
    "import numpy as np\n",
    "\n",
    "try:\n",
    "    df = pd.read_csv('korisnici.csv')\n",
    "except FileNotFoundError:\n",
    "    print(\"Fajl nije pronadjen\")\n",
    "\n",
    "ima_email_df = df.dropna(subset=['Email'])\n",
    "#display(ima_email_df)\n",
    "\n",
    "ima_email_df['Datum_Registracije'] = pd.to_datetime(ima_email_df['Datum_Registracije'])\n",
    "ima_email_df['Godina_Registracije'] = ima_email_df['Datum_Registracije'].dt.year\n",
    "display(ima_email_df)"
   ]
  },
  {
   "cell_type": "code",
   "execution_count": 35,
   "id": "56f49fb4-4af1-4a14-b34d-06790c2713df",
   "metadata": {},
   "outputs": [
    {
     "name": "stdout",
     "output_type": "stream",
     "text": [
      "[('wouldnt', 1), ('wood', 1), ('with', 2), ('white', 1), ('which', 1), ('wet', 1), ('were', 2), ('went', 1), ('we', 1), ('warera', 1), ('viewing', 1), ('viewers', 1), ('viewer', 1), ('used', 1), ('unidentified', 1), ('underground', 1), ('trained', 1), ('track', 1), ('to', 4), ('time', 1), ('through', 1), ('this', 1), ('these', 1), ('theorize', 1), ('the', 13), ('that', 2), ('target', 1), ('superweapon', 1), ('sun', 1), ('streak', 1), ('state', 1), ('spotlighting', 1), ('something', 1), ('some', 1), ('site', 1), ('since', 1), ('silver', 1), ('seraphim', 1), ('searched', 1), ('said', 2), ('sacred', 1), ('rogan', 1), ('robes', 1), ('resurfaced', 1), ('reportedly', 1), ('remote', 2), ('relic', 1), ('released', 1), ('reignited', 1), ('region', 1), ('questions', 1), ('psychic', 3), ('project', 1), ('program', 1), ('powers', 1), ('possessed', 1), ('phenomena', 1), ('perceive', 1), ('paulina', 1), ('part', 1), ('on', 1), ('of', 4), ('observe', 1), ('objects', 1), ('notes', 1), ('no', 1), ('mosque', 1), ('moment', 1), ('middle', 1), ('means', 1), ('march', 1), ('mail', 1), ('luna', 3), ('located', 1), ('locals', 1), ('know', 1), ('jones', 1), ('joe', 1), ('it', 3), ('interest', 1), ('intelligence', 1), ('indiana', 1), ('in', 6), ('i', 1), ('how', 1), ('hidden', 1), ('have', 1), ('has', 1), ('government', 1), ('gold', 1), ('given', 1), ('gathering', 1), ('for', 2), ('first', 1), ('files', 2), ('far', 1), ('exploring', 1), ('experience', 1), ('especially', 1), ('eastern', 1), ('dont', 1), ('domes', 1), ('documents', 3), ('distant', 1), ('detail', 1), ('described', 1), ('definitely', 1), ('declassified', 1), ('dark', 1), ('daily', 1), ('covenant', 2), ('coordinates', 1), ('container', 1), ('congresswoman', 1), ('cold', 1), ('cias', 1), ('cia', 2), ('calling', 1), ('by', 1), ('but', 1), ('being', 1), ('be', 1), ('article', 1), ('ark', 2), ('arabicspeaking', 1), ('anna', 1), ('and', 3), ('an', 2), ('allegedly', 2), ('akin', 1), ('adorned', 1), ('a', 7), ('2025', 1), ('2000', 1), ('1988', 1), ('032', 1)]\n",
      "[('wouldnt', 1), ('wood', 1), ('with', 2), ('white', 1), ('which', 1), ('wet', 1)]\n"
     ]
    }
   ],
   "source": [
    "import re\n",
    "\n",
    "def prebrojavanje_reci(putanja_do_fajla):\n",
    "    #putanja_do_fajla je string sa putanjom\n",
    "    recnik = {}\n",
    "    try:\n",
    "        with open(putanja_do_fajla, 'r', encoding='utf-8') as fajl:\n",
    "            for red in fajl:\n",
    "                red = re.sub(r'[^\\w\\s]', '', red).lower()\n",
    "                reci = red.split()\n",
    "                for rec in reci:\n",
    "                    if rec in recnik:\n",
    "                        recnik[rec] += 1\n",
    "                    else:\n",
    "                        recnik[rec] = 1\n",
    "    except FileNotFoundError:\n",
    "        print(\"Fajl nije pronadjen\")\n",
    "        return None\n",
    "    return recnik\n",
    "\n",
    "\n",
    "def pronadji_najcesce_reci(recnik, n):\n",
    "    if not isinstance(recnik, dict) or not recnik:\n",
    "        return []\n",
    "    #sortirane_reci = sorted(recnik.items(), key=lambda item: item[1], reverse=True)\n",
    "    sortirane_reci = sorted(recnik.items(), reverse=True)\n",
    "    print(sortirane_reci)\n",
    "    return sortirane_reci[:n]\n",
    "\n",
    "tekst_recnik = prebrojavanje_reci('tekst.txt')\n",
    "#if tekst_recnik:\n",
    "    #print(tekst_recnik)\n",
    "\n",
    "najcesce_reci = pronadji_najcesce_reci(tekst_recnik, 6)\n",
    "if najcesce_reci:\n",
    "    print(najcesce_reci)\n"
   ]
  },
  {
   "cell_type": "markdown",
   "id": "9952038c-178c-4f2e-835a-a48ecf43daed",
   "metadata": {},
   "source": [
    "ETL, ELT proces: razumevanje procesa po fazama\n",
    "\n",
    "-izvori podataka: csv, sql baza, third party API, web stranica,...\n",
    "-potpuna ekstrakcija, inkrementalna ekstrakcija\n",
    "-transformacija podataka: ciscenje, validacija, deduplikacija, enrichment, agregacija, struktuiranje\n",
    "-data warehouse\n",
    "-potpuni load, inkrementalno, azuriranje postojecih"
   ]
  },
  {
   "cell_type": "markdown",
   "id": "5ba3ad23-6050-4cb9-9e01-c2357018e725",
   "metadata": {},
   "source": [
    "Relacione baze:\n",
    "-PostgreSQL\n",
    "-MySQL\n",
    "-Microsoft SQL Server"
   ]
  },
  {
   "cell_type": "markdown",
   "id": "78ab0186-03b1-4ce3-8f8b-702188456343",
   "metadata": {},
   "source": [
    "Cloud platforme\n",
    "-AWS, Azure, GCP\n",
    "-Prednosti cloud computinga: skalabilnost, elasticnost, placanje po utrosku, pouzdana podrska"
   ]
  },
  {
   "cell_type": "markdown",
   "id": "521197bb-700e-4dbb-a13a-8f9cb8bd73f8",
   "metadata": {},
   "source": [
    "Big Data \n",
    "- 3V izazovi: volume, velocity, variety\n",
    "- Apache Hadoop\n",
    "- Apache Spark\n",
    "- PySpark "
   ]
  }
 ],
 "metadata": {
  "kernelspec": {
   "display_name": "Python [conda env:base] *",
   "language": "python",
   "name": "conda-base-py"
  },
  "language_info": {
   "codemirror_mode": {
    "name": "ipython",
    "version": 3
   },
   "file_extension": ".py",
   "mimetype": "text/x-python",
   "name": "python",
   "nbconvert_exporter": "python",
   "pygments_lexer": "ipython3",
   "version": "3.12.7"
  }
 },
 "nbformat": 4,
 "nbformat_minor": 5
}
